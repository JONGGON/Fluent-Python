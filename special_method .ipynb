{
 "cells": [
  {
   "cell_type": "code",
   "execution_count": null,
   "metadata": {
    "collapsed": true
   },
   "outputs": [],
   "source": [
    "> ### 특별 메서드(special method) = 마술 메서드(magic method) = 던더 메서드\n",
    "\n",
    "    * 특별메서드를 사용할 때의 2가지 장점\n",
    "        1. 사용자가 표준연산을 수행하기 위해 클래스 자체에서 구현한 임의 메서드명을 알 필요가 없다.\n",
    "        2. 파이썬 표준 라이브러리에서 제공하는 풍부한 기능을 별도로 구현할 필요가 없다.(ex) random.choice())\n",
    "---"
   ]
  },
  {
   "cell_type": "code",
   "execution_count": 1,
   "metadata": {
    "scrolled": true
   },
   "outputs": [
    {
     "name": "stdout",
     "output_type": "stream",
     "text": [
      "1. 기본제공 함수 : random.choice의 사용\n",
      "\n",
      "Card(rank='K', suit='clubs')\n",
      "길이 with __len__ : 52\n",
      "정방향 with __getitem__ : [Card(rank='2', suit='spades'), Card(rank='3', suit='spades'), Card(rank='4', suit='spades'), Card(rank='5', suit='spades'), Card(rank='6', suit='spades'), Card(rank='7', suit='spades'), Card(rank='8', suit='spades'), Card(rank='9', suit='spades'), Card(rank='10', suit='spades'), Card(rank='J', suit='spades'), Card(rank='Q', suit='spades'), Card(rank='K', suit='spades'), Card(rank='A', suit='spades'), Card(rank='2', suit='diamonds'), Card(rank='3', suit='diamonds'), Card(rank='4', suit='diamonds'), Card(rank='5', suit='diamonds'), Card(rank='6', suit='diamonds'), Card(rank='7', suit='diamonds'), Card(rank='8', suit='diamonds'), Card(rank='9', suit='diamonds'), Card(rank='10', suit='diamonds'), Card(rank='J', suit='diamonds'), Card(rank='Q', suit='diamonds'), Card(rank='K', suit='diamonds'), Card(rank='A', suit='diamonds'), Card(rank='2', suit='clubs'), Card(rank='3', suit='clubs'), Card(rank='4', suit='clubs'), Card(rank='5', suit='clubs'), Card(rank='6', suit='clubs'), Card(rank='7', suit='clubs'), Card(rank='8', suit='clubs'), Card(rank='9', suit='clubs'), Card(rank='10', suit='clubs'), Card(rank='J', suit='clubs'), Card(rank='Q', suit='clubs'), Card(rank='K', suit='clubs'), Card(rank='A', suit='clubs'), Card(rank='2', suit='hearts'), Card(rank='3', suit='hearts'), Card(rank='4', suit='hearts'), Card(rank='5', suit='hearts'), Card(rank='6', suit='hearts'), Card(rank='7', suit='hearts'), Card(rank='8', suit='hearts'), Card(rank='9', suit='hearts'), Card(rank='10', suit='hearts'), Card(rank='J', suit='hearts'), Card(rank='Q', suit='hearts'), Card(rank='K', suit='hearts'), Card(rank='A', suit='hearts')]\n",
      "\n",
      "\n",
      "역방향 with __getitem__ : [Card(rank='A', suit='hearts'), Card(rank='K', suit='hearts'), Card(rank='Q', suit='hearts'), Card(rank='J', suit='hearts'), Card(rank='10', suit='hearts'), Card(rank='9', suit='hearts'), Card(rank='8', suit='hearts'), Card(rank='7', suit='hearts'), Card(rank='6', suit='hearts'), Card(rank='5', suit='hearts'), Card(rank='4', suit='hearts'), Card(rank='3', suit='hearts'), Card(rank='2', suit='hearts'), Card(rank='A', suit='clubs'), Card(rank='K', suit='clubs'), Card(rank='Q', suit='clubs'), Card(rank='J', suit='clubs'), Card(rank='10', suit='clubs'), Card(rank='9', suit='clubs'), Card(rank='8', suit='clubs'), Card(rank='7', suit='clubs'), Card(rank='6', suit='clubs'), Card(rank='5', suit='clubs'), Card(rank='4', suit='clubs'), Card(rank='3', suit='clubs'), Card(rank='2', suit='clubs'), Card(rank='A', suit='diamonds'), Card(rank='K', suit='diamonds'), Card(rank='Q', suit='diamonds'), Card(rank='J', suit='diamonds'), Card(rank='10', suit='diamonds'), Card(rank='9', suit='diamonds'), Card(rank='8', suit='diamonds'), Card(rank='7', suit='diamonds'), Card(rank='6', suit='diamonds'), Card(rank='5', suit='diamonds'), Card(rank='4', suit='diamonds'), Card(rank='3', suit='diamonds'), Card(rank='2', suit='diamonds'), Card(rank='A', suit='spades'), Card(rank='K', suit='spades'), Card(rank='Q', suit='spades'), Card(rank='J', suit='spades'), Card(rank='10', suit='spades'), Card(rank='9', suit='spades'), Card(rank='8', suit='spades'), Card(rank='7', suit='spades'), Card(rank='6', suit='spades'), Card(rank='5', suit='spades'), Card(rank='4', suit='spades'), Card(rank='3', suit='spades'), Card(rank='2', suit='spades')]\n",
      "\n",
      "\n",
      "카드 섞기 with __setitem__ : [Card(rank='9', suit='diamonds'), Card(rank='5', suit='spades'), Card(rank='10', suit='clubs'), Card(rank='10', suit='hearts'), Card(rank='8', suit='diamonds'), Card(rank='2', suit='diamonds'), Card(rank='Q', suit='clubs'), Card(rank='5', suit='clubs'), Card(rank='J', suit='hearts'), Card(rank='J', suit='spades'), Card(rank='7', suit='hearts'), Card(rank='J', suit='diamonds'), Card(rank='6', suit='spades'), Card(rank='7', suit='spades'), Card(rank='Q', suit='hearts'), Card(rank='A', suit='diamonds'), Card(rank='3', suit='clubs'), Card(rank='4', suit='spades'), Card(rank='6', suit='clubs'), Card(rank='7', suit='clubs'), Card(rank='2', suit='clubs'), Card(rank='K', suit='clubs'), Card(rank='6', suit='diamonds'), Card(rank='7', suit='diamonds'), Card(rank='2', suit='spades'), Card(rank='K', suit='diamonds'), Card(rank='9', suit='hearts'), Card(rank='9', suit='clubs'), Card(rank='K', suit='spades'), Card(rank='4', suit='clubs'), Card(rank='8', suit='hearts'), Card(rank='6', suit='hearts'), Card(rank='J', suit='clubs'), Card(rank='K', suit='hearts'), Card(rank='2', suit='hearts'), Card(rank='8', suit='clubs'), Card(rank='5', suit='hearts'), Card(rank='Q', suit='spades'), Card(rank='3', suit='diamonds'), Card(rank='Q', suit='diamonds'), Card(rank='8', suit='spades'), Card(rank='4', suit='hearts'), Card(rank='5', suit='diamonds'), Card(rank='3', suit='hearts'), Card(rank='4', suit='diamonds'), Card(rank='A', suit='clubs'), Card(rank='10', suit='spades'), Card(rank='10', suit='diamonds'), Card(rank='3', suit='spades'), Card(rank='A', suit='hearts'), Card(rank='A', suit='spades'), Card(rank='9', suit='spades')]\n",
      "\n",
      "\n"
     ]
    }
   ],
   "source": [
    "import collections\n",
    "import random\n",
    "\n",
    "#namedtuple의 첫번째 입력항목은 namedtuple의 자료형의 명칭(type name)이다. \n",
    "#보통 namedtuple로 생성되는 객체명과 동일하게 한다. 뒤에 따라오는 리스트는 Card라는 namedtuple의 변수로 사용될 항목들이 된다.\n",
    "#namedtuple은 이름 그대로 tuple이기 때문에 인덱싱으로도 역시 접근이 가능하다.\n",
    "#단, namedtuple은 요소값을 변경할 수 없는(immutable) 튜플의 성격을 갖기 때문에 그 값을 변경할 수는 없다. \n",
    "\n",
    "Card = collections.namedtuple('Card',['rank','suit']) #collections.namedtuple()을 사용해 개별카드를 나타내는 클래스를 구현한다. \n",
    "\n",
    "class FrenchDeck(object):#파이썬3 에서는 기본적으로 object를 상속받는다고 한다.\n",
    "    \n",
    "    ranks = [str(n) for n in range(2,11)] + list(\"JQKA\")\n",
    "    suits = 'spades diamonds clubs hearts'.split()\n",
    "    suit_values = dict(spades=3, hearts=2, diamonds=1, clubs=0)\n",
    "    \n",
    "    def __init__(self): #생성자\n",
    "        self._cards = [Card(rank,suit) for suit in self.suits for rank in self.ranks] #for문의 list내포!!!\n",
    "    def __len__(self): #객체의 길이 반환\n",
    "        return len(self._cards)\n",
    "    def __getitem__(self, position): #객체를 list처럼~\n",
    "        return self._cards[position]\n",
    "    def __setitem__(self, position, values): # 카드를 섞기 위해~\n",
    "        self._cards[position]=values\n",
    "\n",
    "deck = FrenchDeck()\n",
    "print(\"1. 기본제공 함수 : random.choice의 사용\\n\")\n",
    "print(random.choice(deck))\n",
    "print(\"길이 with __len__ : {}\".format(len(deck)))\n",
    "print(\"정방향 with __getitem__ : {}\".format(deck[:]))\n",
    "print(\"\\n\")\n",
    "print(\"역방향 with __getitem__ : {}\".format(deck[::-1]))\n",
    "print(\"\\n\")\n",
    "random.shuffle(deck)\n",
    "print(\"카드 섞기 with __setitem__ : {}\".format(deck[:]))\n",
    "print(\"\\n\")"
   ]
  },
  {
   "cell_type": "code",
   "execution_count": null,
   "metadata": {
    "collapsed": true
   },
   "outputs": [],
   "source": [
    "> sorted(iterable , key=None , reverse=False)의 사용법?\n",
    "    [자세한 내용은 여기를 참고하세요.](https://docs.python.org/3/library/functions.html#sorted)\n",
    "    * sorted의 'key'가 의미하는 것? \n",
    "        1. 'key' 의 매개변수의 값은 단일 인자를 받는 '함수'여야 한다.\n",
    "        2. 정렬을 위한 목적으로 사용되는 'key 값'을 반환해야 한다.\n",
    "---"
   ]
  },
  {
   "cell_type": "code",
   "execution_count": 2,
   "metadata": {},
   "outputs": [
    {
     "name": "stdout",
     "output_type": "stream",
     "text": [
      "2. 기본제공 함수 : sorted의 사용\n",
      "\n",
      "오름차순 정렬\n",
      "Card(rank='2', suit='clubs')\n",
      "Card(rank='2', suit='diamonds')\n",
      "Card(rank='2', suit='hearts')\n",
      "Card(rank='2', suit='spades')\n",
      "Card(rank='3', suit='clubs')\n",
      "Card(rank='3', suit='diamonds')\n",
      "Card(rank='3', suit='hearts')\n",
      "Card(rank='3', suit='spades')\n",
      "Card(rank='4', suit='clubs')\n",
      "Card(rank='4', suit='diamonds')\n",
      "Card(rank='4', suit='hearts')\n",
      "Card(rank='4', suit='spades')\n",
      "Card(rank='5', suit='clubs')\n",
      "Card(rank='5', suit='diamonds')\n",
      "Card(rank='5', suit='hearts')\n",
      "Card(rank='5', suit='spades')\n",
      "Card(rank='6', suit='clubs')\n",
      "Card(rank='6', suit='diamonds')\n",
      "Card(rank='6', suit='hearts')\n",
      "Card(rank='6', suit='spades')\n",
      "Card(rank='7', suit='clubs')\n",
      "Card(rank='7', suit='diamonds')\n",
      "Card(rank='7', suit='hearts')\n",
      "Card(rank='7', suit='spades')\n",
      "Card(rank='8', suit='clubs')\n",
      "Card(rank='8', suit='diamonds')\n",
      "Card(rank='8', suit='hearts')\n",
      "Card(rank='8', suit='spades')\n",
      "Card(rank='9', suit='clubs')\n",
      "Card(rank='9', suit='diamonds')\n",
      "Card(rank='9', suit='hearts')\n",
      "Card(rank='9', suit='spades')\n",
      "Card(rank='10', suit='clubs')\n",
      "Card(rank='10', suit='diamonds')\n",
      "Card(rank='10', suit='hearts')\n",
      "Card(rank='10', suit='spades')\n",
      "Card(rank='J', suit='clubs')\n",
      "Card(rank='J', suit='diamonds')\n",
      "Card(rank='J', suit='hearts')\n",
      "Card(rank='J', suit='spades')\n",
      "Card(rank='Q', suit='clubs')\n",
      "Card(rank='Q', suit='diamonds')\n",
      "Card(rank='Q', suit='hearts')\n",
      "Card(rank='Q', suit='spades')\n",
      "Card(rank='K', suit='clubs')\n",
      "Card(rank='K', suit='diamonds')\n",
      "Card(rank='K', suit='hearts')\n",
      "Card(rank='K', suit='spades')\n",
      "Card(rank='A', suit='clubs')\n",
      "Card(rank='A', suit='diamonds')\n",
      "Card(rank='A', suit='hearts')\n",
      "Card(rank='A', suit='spades')\n"
     ]
    }
   ],
   "source": [
    "def spades_high(card):\n",
    "    rank_value = FrenchDeck.ranks.index(card.rank)\n",
    "    return rank_value*len(FrenchDeck.suit_values) + FrenchDeck.suit_values[card.suit]\n",
    "\n",
    "print(\"2. 기본제공 함수 : sorted의 사용\\n\")\n",
    "print(\"오름차순 정렬\")\n",
    "for card in sorted(deck, key=spades_high):\n",
    "    print(card)\n"
   ]
  },
  {
   "cell_type": "code",
   "execution_count": null,
   "metadata": {
    "collapsed": true
   },
   "outputs": [],
   "source": []
  },
  {
   "cell_type": "code",
   "execution_count": null,
   "metadata": {
    "collapsed": true
   },
   "outputs": [],
   "source": []
  }
 ],
 "metadata": {
  "kernelspec": {
   "display_name": "Python 3",
   "language": "python",
   "name": "python3"
  },
  "language_info": {
   "codemirror_mode": {
    "name": "ipython",
    "version": 3
   },
   "file_extension": ".py",
   "mimetype": "text/x-python",
   "name": "python",
   "nbconvert_exporter": "python",
   "pygments_lexer": "ipython3",
   "version": "3.6.1"
  }
 },
 "nbformat": 4,
 "nbformat_minor": 2
}
