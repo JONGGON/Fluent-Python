{
 "cells": [
  {
   "cell_type": "markdown",
   "metadata": {},
   "source": [
    "> ### 특별 메서드(special method) = 마술 메서드(magic method) = 던더 메서드\n",
    "[자세한 내용은 여기를 참고하세요.](https://wikidocs.net/11741)\n",
    "    * '특별 메서드'는 파이썬 인터프리터가 호출한다.\n",
    "---"
   ]
  },
  {
   "cell_type": "code",
   "execution_count": 34,
   "metadata": {},
   "outputs": [
    {
     "name": "stdout",
     "output_type": "stream",
     "text": [
      "Vector 연산입니다.\n",
      "Vector(5,5)\n",
      "5.0\n",
      "15.0\n"
     ]
    }
   ],
   "source": [
    "import math\n",
    "\n",
    "class Vector(object):\n",
    "    \n",
    "    def __init__(self, x=0, y=0):\n",
    "        self.x = x\n",
    "        self.y = y\n",
    "    \n",
    "    '''\n",
    "    __repr__ 과 __str__의 비교\n",
    "    \n",
    "    1. __str__ 은 str생성자에 의해 호출되며, print()함수에 의해 암묵적으로 사용된다. \n",
    "                __str__은 사용자에게 보여주기 적당한 형태의 문자열을 반환해야 한다.\n",
    "    \n",
    "    2. __repr__ 은 repr생성자에 의해 호출되며, 공식적인 문자열을 출력한다.\n",
    "                문자열로 객체를 다시 생성할 수 있다.\n",
    "    \n",
    "    3. 파이썬 인터프리터는 __str__가 구현되어 있지 않을 때의 대책으로 __repr__를 호출한다. \n",
    "    \n",
    "    4.  __repr__ 이 구현되지 않고 __str__ 만 구현 했을 경우, __str__ 이 __repr__ 을 호출하지 않는다.\n",
    "    \n",
    "    5. 둘다 구현되어 있다면 __str__의 결과를 따른다\n",
    "    \n",
    "    Object.__ str__(self) \n",
    "    적당히 사용자가 보기 쉬운 형태의 문자열을 출력할 때 사용\n",
    "\n",
    "    Object.__ repr__(self) \n",
    "    파이썬 인터프리터가 해당 객체를 인식 할 수 있는 공식적인 문자열을 출력할 때 사용\n",
    "\n",
    "    '''\n",
    "    def __repr__(self): #객체를 문자열로 표현하기 위해~ :  구현하지 않으면, __main__.Vector object at 0x00000266D9740828 같은 형태로 출력\n",
    "        return 'Vector({},{})'.format(self.x,self.y)\n",
    "    \n",
    "    def __str__(self): \n",
    "        return \"Vector 연산입니다.\"\n",
    "    \n",
    "    def __abs__(self):\n",
    "        return math.hypot(self.x , self.y)\n",
    "    \n",
    "    def __add__(self,other):\n",
    "        x = self.x+other.x\n",
    "        y = self.y+other.y\n",
    "        return Vector(x,y)\n",
    "    \n",
    "    def __mul__(self,scalar):\n",
    "        return Vector(self.x*scalar , self.y*scalar)\n",
    "        \n",
    "        \n",
    "v1 = Vector(2,4)\n",
    "v2 = Vector(3,1)\n",
    "\n",
    "print(str(v1+v2))\n",
    "print(repr(v1+v2))\n",
    "print(abs(Vector(3,4)))\n",
    "print(abs(Vector(3,4)*3))"
   ]
  },
  {
   "cell_type": "code",
   "execution_count": null,
   "metadata": {
    "collapsed": true
   },
   "outputs": [],
   "source": []
  }
 ],
 "metadata": {
  "kernelspec": {
   "display_name": "Python 3",
   "language": "python",
   "name": "python3"
  },
  "language_info": {
   "codemirror_mode": {
    "name": "ipython",
    "version": 3
   },
   "file_extension": ".py",
   "mimetype": "text/x-python",
   "name": "python",
   "nbconvert_exporter": "python",
   "pygments_lexer": "ipython3",
   "version": "3.6.1"
  }
 },
 "nbformat": 4,
 "nbformat_minor": 2
}
